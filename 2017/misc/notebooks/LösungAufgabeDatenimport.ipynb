{
 "cells": [
  {
   "cell_type": "markdown",
   "metadata": {},
   "source": [
    "## Die Daten herunterladen"
   ]
  },
  {
   "cell_type": "markdown",
   "metadata": {},
   "source": [
    "- [Hier sind die Daten zu finden](https://github.com/Japhilko/IntroR/blob/master/2017/data/oecd.dta)"
   ]
  },
  {
   "cell_type": "code",
   "execution_count": 3,
   "metadata": {
    "collapsed": false
   },
   "outputs": [
    {
     "name": "stdout",
     "output_type": "stream",
     "text": [
      "\n",
      "  Es gibt eine Binärversion (und diese wird installiert), jedoch sind\n",
      "  die Quelltexte neuer:\n",
      "     binary source\n",
      "curl  0.9.7    2.5\n",
      "\n",
      "package 'curl' successfully unpacked and MD5 sums checked\n",
      "\n",
      "The downloaded binary packages are in\n",
      "\tD:\\TEMP\\RtmpYjL9FA\\downloaded_packages\n"
     ]
    }
   ],
   "source": [
    "install.packages('curl', repos='http://cran.us.r-project.org')"
   ]
  },
  {
   "cell_type": "code",
   "execution_count": 1,
   "metadata": {
    "collapsed": false
   },
   "outputs": [
    {
     "ename": "ERROR",
     "evalue": "Error in library(\"rio\"): there is no package called 'rio'\n",
     "output_type": "error",
     "traceback": [
      "Error in library(\"rio\"): there is no package called 'rio'\n"
     ]
    }
   ],
   "source": [
    "library(\"rio\")"
   ]
  }
 ],
 "metadata": {
  "kernelspec": {
   "display_name": "R",
   "language": "R",
   "name": "ir"
  },
  "language_info": {
   "codemirror_mode": "r",
   "file_extension": ".r",
   "mimetype": "text/x-r-source",
   "name": "R",
   "pygments_lexer": "r",
   "version": "3.1.3"
  }
 },
 "nbformat": 4,
 "nbformat_minor": 0
}
